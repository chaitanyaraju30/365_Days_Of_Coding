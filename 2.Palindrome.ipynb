{
 "cells": [
  {
   "cell_type": "code",
   "execution_count": 8,
   "id": "4fb76878",
   "metadata": {},
   "outputs": [],
   "source": [
    "    def isPalindrome(x):\n",
    "        rev = 0\n",
    "        num = x \n",
    "        if len(str(x))==1:\n",
    "            return True\n",
    "        else:\n",
    "            while x>1:\n",
    "                digit = int(x)%10\n",
    "                \n",
    "                rev = rev*10+digit\n",
    "              \n",
    "                x = x/10\n",
    "           \n",
    "            if(num==rev):\n",
    "                return True\n",
    "            else:\n",
    "                return False"
   ]
  },
  {
   "cell_type": "code",
   "execution_count": 9,
   "id": "35b6422a",
   "metadata": {},
   "outputs": [
    {
     "name": "stdout",
     "output_type": "stream",
     "text": [
      "True\n"
     ]
    }
   ],
   "source": [
    "def main():\n",
    "    print(isPalindrome(121))\n",
    "    \n",
    "main()"
   ]
  }
 ],
 "metadata": {
  "kernelspec": {
   "display_name": "Python 3",
   "language": "python",
   "name": "python3"
  },
  "language_info": {
   "codemirror_mode": {
    "name": "ipython",
    "version": 3
   },
   "file_extension": ".py",
   "mimetype": "text/x-python",
   "name": "python",
   "nbconvert_exporter": "python",
   "pygments_lexer": "ipython3",
   "version": "3.8.8"
  }
 },
 "nbformat": 4,
 "nbformat_minor": 5
}
