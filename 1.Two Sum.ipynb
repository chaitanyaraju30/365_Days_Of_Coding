{
 "cells": [
  {
   "cell_type": "markdown",
   "id": "0a301e2b",
   "metadata": {},
   "source": [
    "### Below is the method to solve using brutforce method"
   ]
  },
  {
   "cell_type": "code",
   "execution_count": 1,
   "id": "9d8271fb",
   "metadata": {},
   "outputs": [
    {
     "name": "stdout",
     "output_type": "stream",
     "text": [
      "[2, 4]\n"
     ]
    }
   ],
   "source": [
    "nums = [-1,-2,-3,-4,-5]\n",
    "target = -8\n",
    "\n",
    "\n",
    "def twoSum(nums, target):\n",
    "        l = 1\n",
    "        for i in nums:\n",
    "            diff =  target - i \n",
    "            if ((diff in nums[nums.index(i)+1:])):\n",
    "                return ([nums.index(i),nums[nums.index(i)+1:].index(diff)+l])\n",
    "                break\n",
    "            else:\n",
    "                l = l+1\n",
    "                continue\n",
    "\n",
    "\n",
    "def main():\n",
    "    print(twoSum(nums,target))\n",
    "    \n",
    "main()"
   ]
  },
  {
   "cell_type": "markdown",
   "id": "7bf08f53",
   "metadata": {},
   "source": [
    "### Below is the method to solve using dictionary"
   ]
  },
  {
   "cell_type": "code",
   "execution_count": 2,
   "id": "cdbead15",
   "metadata": {},
   "outputs": [
    {
     "name": "stdout",
     "output_type": "stream",
     "text": [
      "[0, 1]\n"
     ]
    }
   ],
   "source": [
    "nums1 =[3,3]\n",
    "target1 = 6\n",
    "\n",
    "\n",
    "def twoSum1(nums1, target1):\n",
    "    dict = {}\n",
    "    for i in range(len(nums1)):\n",
    "        diff1 = target1-nums1[i]\n",
    "        if diff1 not in dict:\n",
    "            dict[nums1[i]] = i\n",
    "        else:\n",
    "            return [dict[diff1],i]\n",
    "\n",
    "def main():\n",
    "    print(twoSum1(nums1,target1))\n",
    "    \n",
    "main()"
   ]
  }
 ],
 "metadata": {
  "kernelspec": {
   "display_name": "Python 3",
   "language": "python",
   "name": "python3"
  },
  "language_info": {
   "codemirror_mode": {
    "name": "ipython",
    "version": 3
   },
   "file_extension": ".py",
   "mimetype": "text/x-python",
   "name": "python",
   "nbconvert_exporter": "python",
   "pygments_lexer": "ipython3",
   "version": "3.8.8"
  }
 },
 "nbformat": 4,
 "nbformat_minor": 5
}
